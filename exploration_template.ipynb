{
 "cells": [
  {
   "cell_type": "markdown",
   "metadata": {
    "slideshow": {
     "slide_type": "slide"
    }
   },
   "source": [
    "# Ford GoBike System Data Exploration\n",
    "## by Masa Abdalhalim"
   ]
  },
  {
   "cell_type": "markdown",
   "metadata": {
    "slideshow": {
     "slide_type": "slide"
    }
   },
   "source": [
    "- <a href=\"#import\">Importing Libraries</a></li>\n",
    "\n",
    "- <a href=\"#assess\">Loading and Assessing Data</a></li>\n",
    "  \n",
    "- <a href=\"#clean\">Cleaning Data</a></li>\n",
    "\n",
    "- <a href=\"#store\">Storing Data</a></li>\n",
    "\n",
    "- <a href=\"#Visual\">Analyzing and Visualizing Data</a></li>\n",
    "    - <a href=\"#uni\">Univariate Exploration</a></li>\n",
    "    - <a href=\"#bi\">Bivariate Exploration</a></li>\n",
    "    - <a href=\"#mul\">Multivariate Exploration</a></li>\n"
   ]
  },
  {
   "cell_type": "markdown",
   "metadata": {
    "slideshow": {
     "slide_type": "slide"
    }
   },
   "source": [
    "<a id='import'></a>\n",
    "<hr>\n",
    "\n",
    "## Importing Libraries"
   ]
  },
  {
   "cell_type": "code",
   "execution_count": 18,
   "metadata": {
    "slideshow": {
     "slide_type": "slide"
    }
   },
   "outputs": [],
   "source": [
    "#prerequisite package imports\n",
    "import numpy as np\n",
    "import pandas as pd\n",
    "import matplotlib.pyplot as plt\n",
    "import seaborn as sb\n",
    "\n",
    "%matplotlib inline"
   ]
  },
  {
   "cell_type": "markdown",
   "metadata": {
    "slideshow": {
     "slide_type": "slide"
    }
   },
   "source": [
    "<a id='assess'></a>\n",
    "<hr>\n",
    "\n",
    "## Loading and Assessing Data"
   ]
  },
  {
   "cell_type": "code",
   "execution_count": 19,
   "metadata": {
    "slideshow": {
     "slide_type": "slide"
    }
   },
   "outputs": [],
   "source": [
    "data1 = pd.read_csv('201801-fordgobike-tripdata.csv')\n",
    "data2 = pd.read_csv('201802-fordgobike-tripdata.csv')\n",
    "data3 = pd.read_csv('201803-fordgobike-tripdata.csv')\n",
    "data4 = pd.read_csv('201804-fordgobike-tripdata.csv')\n",
    "data5 = pd.read_csv('201805-fordgobike-tripdata.csv')\n",
    "data6 = pd.read_csv('201806-fordgobike-tripdata.csv')\n",
    "data7 = pd.read_csv('201807-fordgobike-tripdata.csv')\n",
    "data8 = pd.read_csv('201808-fordgobike-tripdata.csv')\n",
    "data9 = pd.read_csv('201809-fordgobike-tripdata.csv')\n",
    "data10 = pd.read_csv('201810-fordgobike-tripdata.csv')\n",
    "data11 = pd.read_csv('201811-fordgobike-tripdata.csv')\n",
    "data12 = pd.read_csv('201812-fordgobike-tripdata.csv')"
   ]
  },
  {
   "cell_type": "code",
   "execution_count": 20,
   "metadata": {
    "slideshow": {
     "slide_type": "slide"
    }
   },
   "outputs": [],
   "source": [
    "results = pd.concat([data1,data2,data3,data4,data5,data6,data7,data8,data9,data10,data11,data12], ignore_index=True, sort=False)\n",
    "results.to_csv('2018-fordgobike-tripdata.csv', sep=',', encoding='utf-8')"
   ]
  },
  {
   "cell_type": "code",
   "execution_count": 21,
   "metadata": {
    "scrolled": true,
    "slideshow": {
     "slide_type": "slide"
    }
   },
   "outputs": [],
   "source": [
    "fordgobike_2018 = pd.read_csv('2018-fordgobike-tripdata.csv', index_col = 0)"
   ]
  },
  {
   "cell_type": "code",
   "execution_count": 22,
   "metadata": {
    "scrolled": true,
    "slideshow": {
     "slide_type": "slide"
    }
   },
   "outputs": [
    {
     "data": {
      "text/html": [
       "<div>\n",
       "<style scoped>\n",
       "    .dataframe tbody tr th:only-of-type {\n",
       "        vertical-align: middle;\n",
       "    }\n",
       "\n",
       "    .dataframe tbody tr th {\n",
       "        vertical-align: top;\n",
       "    }\n",
       "\n",
       "    .dataframe thead th {\n",
       "        text-align: right;\n",
       "    }\n",
       "</style>\n",
       "<table border=\"1\" class=\"dataframe\">\n",
       "  <thead>\n",
       "    <tr style=\"text-align: right;\">\n",
       "      <th></th>\n",
       "      <th>duration_sec</th>\n",
       "      <th>start_time</th>\n",
       "      <th>end_time</th>\n",
       "      <th>start_station_id</th>\n",
       "      <th>start_station_name</th>\n",
       "      <th>start_station_latitude</th>\n",
       "      <th>start_station_longitude</th>\n",
       "      <th>end_station_id</th>\n",
       "      <th>end_station_name</th>\n",
       "      <th>end_station_latitude</th>\n",
       "      <th>end_station_longitude</th>\n",
       "      <th>bike_id</th>\n",
       "      <th>user_type</th>\n",
       "      <th>member_birth_year</th>\n",
       "      <th>member_gender</th>\n",
       "      <th>bike_share_for_all_trip</th>\n",
       "    </tr>\n",
       "  </thead>\n",
       "  <tbody>\n",
       "    <tr>\n",
       "      <th>945354</th>\n",
       "      <td>124</td>\n",
       "      <td>2018-07-12 18:53:17.4090</td>\n",
       "      <td>2018-07-12 18:55:21.6030</td>\n",
       "      <td>134.0</td>\n",
       "      <td>Valencia St at 24th St</td>\n",
       "      <td>37.752428</td>\n",
       "      <td>-122.420628</td>\n",
       "      <td>133.0</td>\n",
       "      <td>Valencia St at 22nd St</td>\n",
       "      <td>37.755213</td>\n",
       "      <td>-122.420975</td>\n",
       "      <td>1883</td>\n",
       "      <td>Subscriber</td>\n",
       "      <td>1978.0</td>\n",
       "      <td>Male</td>\n",
       "      <td>No</td>\n",
       "    </tr>\n",
       "    <tr>\n",
       "      <th>1146492</th>\n",
       "      <td>864</td>\n",
       "      <td>2018-08-10 18:33:57.1520</td>\n",
       "      <td>2018-08-10 18:48:21.3480</td>\n",
       "      <td>145.0</td>\n",
       "      <td>29th St at Church St</td>\n",
       "      <td>37.743684</td>\n",
       "      <td>-122.426806</td>\n",
       "      <td>123.0</td>\n",
       "      <td>Folsom St at 19th St</td>\n",
       "      <td>37.760594</td>\n",
       "      <td>-122.414817</td>\n",
       "      <td>2543</td>\n",
       "      <td>Subscriber</td>\n",
       "      <td>NaN</td>\n",
       "      <td>NaN</td>\n",
       "      <td>No</td>\n",
       "    </tr>\n",
       "    <tr>\n",
       "      <th>1769756</th>\n",
       "      <td>1119</td>\n",
       "      <td>2018-12-19 19:39:26.7510</td>\n",
       "      <td>2018-12-19 19:58:05.8700</td>\n",
       "      <td>96.0</td>\n",
       "      <td>Dolores St at 15th St</td>\n",
       "      <td>37.766210</td>\n",
       "      <td>-122.426614</td>\n",
       "      <td>5.0</td>\n",
       "      <td>Powell St BART Station (Market St at 5th St)</td>\n",
       "      <td>37.783899</td>\n",
       "      <td>-122.408445</td>\n",
       "      <td>5528</td>\n",
       "      <td>Subscriber</td>\n",
       "      <td>1992.0</td>\n",
       "      <td>Male</td>\n",
       "      <td>No</td>\n",
       "    </tr>\n",
       "    <tr>\n",
       "      <th>1667338</th>\n",
       "      <td>811</td>\n",
       "      <td>2018-11-12 13:06:08.1000</td>\n",
       "      <td>2018-11-12 13:19:39.7450</td>\n",
       "      <td>36.0</td>\n",
       "      <td>Folsom St at 3rd St</td>\n",
       "      <td>37.783830</td>\n",
       "      <td>-122.398870</td>\n",
       "      <td>6.0</td>\n",
       "      <td>The Embarcadero at Sansome St</td>\n",
       "      <td>37.804770</td>\n",
       "      <td>-122.403234</td>\n",
       "      <td>700</td>\n",
       "      <td>Subscriber</td>\n",
       "      <td>1992.0</td>\n",
       "      <td>Female</td>\n",
       "      <td>No</td>\n",
       "    </tr>\n",
       "    <tr>\n",
       "      <th>1520719</th>\n",
       "      <td>754</td>\n",
       "      <td>2018-10-12 09:30:06.6900</td>\n",
       "      <td>2018-10-12 09:42:41.0110</td>\n",
       "      <td>284.0</td>\n",
       "      <td>Yerba Buena Center for the Arts (Howard St at ...</td>\n",
       "      <td>37.784872</td>\n",
       "      <td>-122.400876</td>\n",
       "      <td>6.0</td>\n",
       "      <td>The Embarcadero at Sansome St</td>\n",
       "      <td>37.804770</td>\n",
       "      <td>-122.403234</td>\n",
       "      <td>4318</td>\n",
       "      <td>Subscriber</td>\n",
       "      <td>1990.0</td>\n",
       "      <td>Female</td>\n",
       "      <td>No</td>\n",
       "    </tr>\n",
       "  </tbody>\n",
       "</table>\n",
       "</div>"
      ],
      "text/plain": [
       "         duration_sec                start_time                  end_time  \\\n",
       "945354            124  2018-07-12 18:53:17.4090  2018-07-12 18:55:21.6030   \n",
       "1146492           864  2018-08-10 18:33:57.1520  2018-08-10 18:48:21.3480   \n",
       "1769756          1119  2018-12-19 19:39:26.7510  2018-12-19 19:58:05.8700   \n",
       "1667338           811  2018-11-12 13:06:08.1000  2018-11-12 13:19:39.7450   \n",
       "1520719           754  2018-10-12 09:30:06.6900  2018-10-12 09:42:41.0110   \n",
       "\n",
       "         start_station_id                                 start_station_name  \\\n",
       "945354              134.0                             Valencia St at 24th St   \n",
       "1146492             145.0                               29th St at Church St   \n",
       "1769756              96.0                              Dolores St at 15th St   \n",
       "1667338              36.0                                Folsom St at 3rd St   \n",
       "1520719             284.0  Yerba Buena Center for the Arts (Howard St at ...   \n",
       "\n",
       "         start_station_latitude  start_station_longitude  end_station_id  \\\n",
       "945354                37.752428              -122.420628           133.0   \n",
       "1146492               37.743684              -122.426806           123.0   \n",
       "1769756               37.766210              -122.426614             5.0   \n",
       "1667338               37.783830              -122.398870             6.0   \n",
       "1520719               37.784872              -122.400876             6.0   \n",
       "\n",
       "                                     end_station_name  end_station_latitude  \\\n",
       "945354                         Valencia St at 22nd St             37.755213   \n",
       "1146492                          Folsom St at 19th St             37.760594   \n",
       "1769756  Powell St BART Station (Market St at 5th St)             37.783899   \n",
       "1667338                 The Embarcadero at Sansome St             37.804770   \n",
       "1520719                 The Embarcadero at Sansome St             37.804770   \n",
       "\n",
       "         end_station_longitude  bike_id   user_type  member_birth_year  \\\n",
       "945354             -122.420975     1883  Subscriber             1978.0   \n",
       "1146492            -122.414817     2543  Subscriber                NaN   \n",
       "1769756            -122.408445     5528  Subscriber             1992.0   \n",
       "1667338            -122.403234      700  Subscriber             1992.0   \n",
       "1520719            -122.403234     4318  Subscriber             1990.0   \n",
       "\n",
       "        member_gender bike_share_for_all_trip  \n",
       "945354           Male                      No  \n",
       "1146492           NaN                      No  \n",
       "1769756          Male                      No  \n",
       "1667338        Female                      No  \n",
       "1520719        Female                      No  "
      ]
     },
     "execution_count": 22,
     "metadata": {},
     "output_type": "execute_result"
    }
   ],
   "source": [
    "fordgobike_2018.sample(5)"
   ]
  },
  {
   "cell_type": "code",
   "execution_count": 23,
   "metadata": {
    "slideshow": {
     "slide_type": "slide"
    }
   },
   "outputs": [
    {
     "name": "stdout",
     "output_type": "stream",
     "text": [
      "<class 'pandas.core.frame.DataFrame'>\n",
      "Int64Index: 1863721 entries, 0 to 1863720\n",
      "Data columns (total 16 columns):\n",
      " #   Column                   Dtype  \n",
      "---  ------                   -----  \n",
      " 0   duration_sec             int64  \n",
      " 1   start_time               object \n",
      " 2   end_time                 object \n",
      " 3   start_station_id         float64\n",
      " 4   start_station_name       object \n",
      " 5   start_station_latitude   float64\n",
      " 6   start_station_longitude  float64\n",
      " 7   end_station_id           float64\n",
      " 8   end_station_name         object \n",
      " 9   end_station_latitude     float64\n",
      " 10  end_station_longitude    float64\n",
      " 11  bike_id                  int64  \n",
      " 12  user_type                object \n",
      " 13  member_birth_year        float64\n",
      " 14  member_gender            object \n",
      " 15  bike_share_for_all_trip  object \n",
      "dtypes: float64(7), int64(2), object(7)\n",
      "memory usage: 241.7+ MB\n"
     ]
    }
   ],
   "source": [
    "fordgobike_2018.info()"
   ]
  },
  {
   "cell_type": "code",
   "execution_count": 24,
   "metadata": {
    "slideshow": {
     "slide_type": "slide"
    }
   },
   "outputs": [
    {
     "data": {
      "text/html": [
       "<div>\n",
       "<style scoped>\n",
       "    .dataframe tbody tr th:only-of-type {\n",
       "        vertical-align: middle;\n",
       "    }\n",
       "\n",
       "    .dataframe tbody tr th {\n",
       "        vertical-align: top;\n",
       "    }\n",
       "\n",
       "    .dataframe thead th {\n",
       "        text-align: right;\n",
       "    }\n",
       "</style>\n",
       "<table border=\"1\" class=\"dataframe\">\n",
       "  <thead>\n",
       "    <tr style=\"text-align: right;\">\n",
       "      <th></th>\n",
       "      <th>duration_sec</th>\n",
       "      <th>start_station_id</th>\n",
       "      <th>start_station_latitude</th>\n",
       "      <th>start_station_longitude</th>\n",
       "      <th>end_station_id</th>\n",
       "      <th>end_station_latitude</th>\n",
       "      <th>end_station_longitude</th>\n",
       "      <th>bike_id</th>\n",
       "      <th>member_birth_year</th>\n",
       "    </tr>\n",
       "  </thead>\n",
       "  <tbody>\n",
       "    <tr>\n",
       "      <th>count</th>\n",
       "      <td>1.863721e+06</td>\n",
       "      <td>1.851950e+06</td>\n",
       "      <td>1.863721e+06</td>\n",
       "      <td>1.863721e+06</td>\n",
       "      <td>1.851950e+06</td>\n",
       "      <td>1.863721e+06</td>\n",
       "      <td>1.863721e+06</td>\n",
       "      <td>1.863721e+06</td>\n",
       "      <td>1.571756e+06</td>\n",
       "    </tr>\n",
       "    <tr>\n",
       "      <th>mean</th>\n",
       "      <td>8.573026e+02</td>\n",
       "      <td>1.196744e+02</td>\n",
       "      <td>3.776678e+01</td>\n",
       "      <td>-1.223492e+02</td>\n",
       "      <td>1.181730e+02</td>\n",
       "      <td>3.776690e+01</td>\n",
       "      <td>-1.223487e+02</td>\n",
       "      <td>2.296851e+03</td>\n",
       "      <td>1.983026e+03</td>\n",
       "    </tr>\n",
       "    <tr>\n",
       "      <th>std</th>\n",
       "      <td>2.370379e+03</td>\n",
       "      <td>1.003976e+02</td>\n",
       "      <td>1.057689e-01</td>\n",
       "      <td>1.654634e-01</td>\n",
       "      <td>1.004403e+02</td>\n",
       "      <td>1.056483e-01</td>\n",
       "      <td>1.650597e-01</td>\n",
       "      <td>1.287733e+03</td>\n",
       "      <td>1.045595e+01</td>\n",
       "    </tr>\n",
       "    <tr>\n",
       "      <th>min</th>\n",
       "      <td>6.100000e+01</td>\n",
       "      <td>3.000000e+00</td>\n",
       "      <td>3.726331e+01</td>\n",
       "      <td>-1.224737e+02</td>\n",
       "      <td>3.000000e+00</td>\n",
       "      <td>3.726331e+01</td>\n",
       "      <td>-1.224737e+02</td>\n",
       "      <td>1.100000e+01</td>\n",
       "      <td>1.881000e+03</td>\n",
       "    </tr>\n",
       "    <tr>\n",
       "      <th>25%</th>\n",
       "      <td>3.500000e+02</td>\n",
       "      <td>3.300000e+01</td>\n",
       "      <td>3.777106e+01</td>\n",
       "      <td>-1.224114e+02</td>\n",
       "      <td>3.000000e+01</td>\n",
       "      <td>3.777106e+01</td>\n",
       "      <td>-1.224094e+02</td>\n",
       "      <td>1.225000e+03</td>\n",
       "      <td>1.978000e+03</td>\n",
       "    </tr>\n",
       "    <tr>\n",
       "      <th>50%</th>\n",
       "      <td>5.560000e+02</td>\n",
       "      <td>8.900000e+01</td>\n",
       "      <td>3.778107e+01</td>\n",
       "      <td>-1.223974e+02</td>\n",
       "      <td>8.800000e+01</td>\n",
       "      <td>3.778127e+01</td>\n",
       "      <td>-1.223971e+02</td>\n",
       "      <td>2.338000e+03</td>\n",
       "      <td>1.985000e+03</td>\n",
       "    </tr>\n",
       "    <tr>\n",
       "      <th>75%</th>\n",
       "      <td>8.720000e+02</td>\n",
       "      <td>1.860000e+02</td>\n",
       "      <td>3.779625e+01</td>\n",
       "      <td>-1.222865e+02</td>\n",
       "      <td>1.830000e+02</td>\n",
       "      <td>3.779728e+01</td>\n",
       "      <td>-1.222894e+02</td>\n",
       "      <td>3.333000e+03</td>\n",
       "      <td>1.990000e+03</td>\n",
       "    </tr>\n",
       "    <tr>\n",
       "      <th>max</th>\n",
       "      <td>8.636600e+04</td>\n",
       "      <td>3.810000e+02</td>\n",
       "      <td>4.551000e+01</td>\n",
       "      <td>-7.357000e+01</td>\n",
       "      <td>3.810000e+02</td>\n",
       "      <td>4.551000e+01</td>\n",
       "      <td>-7.357000e+01</td>\n",
       "      <td>6.234000e+03</td>\n",
       "      <td>2.000000e+03</td>\n",
       "    </tr>\n",
       "  </tbody>\n",
       "</table>\n",
       "</div>"
      ],
      "text/plain": [
       "       duration_sec  start_station_id  start_station_latitude  \\\n",
       "count  1.863721e+06      1.851950e+06            1.863721e+06   \n",
       "mean   8.573026e+02      1.196744e+02            3.776678e+01   \n",
       "std    2.370379e+03      1.003976e+02            1.057689e-01   \n",
       "min    6.100000e+01      3.000000e+00            3.726331e+01   \n",
       "25%    3.500000e+02      3.300000e+01            3.777106e+01   \n",
       "50%    5.560000e+02      8.900000e+01            3.778107e+01   \n",
       "75%    8.720000e+02      1.860000e+02            3.779625e+01   \n",
       "max    8.636600e+04      3.810000e+02            4.551000e+01   \n",
       "\n",
       "       start_station_longitude  end_station_id  end_station_latitude  \\\n",
       "count             1.863721e+06    1.851950e+06          1.863721e+06   \n",
       "mean             -1.223492e+02    1.181730e+02          3.776690e+01   \n",
       "std               1.654634e-01    1.004403e+02          1.056483e-01   \n",
       "min              -1.224737e+02    3.000000e+00          3.726331e+01   \n",
       "25%              -1.224114e+02    3.000000e+01          3.777106e+01   \n",
       "50%              -1.223974e+02    8.800000e+01          3.778127e+01   \n",
       "75%              -1.222865e+02    1.830000e+02          3.779728e+01   \n",
       "max              -7.357000e+01    3.810000e+02          4.551000e+01   \n",
       "\n",
       "       end_station_longitude       bike_id  member_birth_year  \n",
       "count           1.863721e+06  1.863721e+06       1.571756e+06  \n",
       "mean           -1.223487e+02  2.296851e+03       1.983026e+03  \n",
       "std             1.650597e-01  1.287733e+03       1.045595e+01  \n",
       "min            -1.224737e+02  1.100000e+01       1.881000e+03  \n",
       "25%            -1.224094e+02  1.225000e+03       1.978000e+03  \n",
       "50%            -1.223971e+02  2.338000e+03       1.985000e+03  \n",
       "75%            -1.222894e+02  3.333000e+03       1.990000e+03  \n",
       "max            -7.357000e+01  6.234000e+03       2.000000e+03  "
      ]
     },
     "execution_count": 24,
     "metadata": {},
     "output_type": "execute_result"
    }
   ],
   "source": [
    "fordgobike_2018.describe()"
   ]
  },
  {
   "cell_type": "code",
   "execution_count": 25,
   "metadata": {
    "slideshow": {
     "slide_type": "slide"
    }
   },
   "outputs": [
    {
     "data": {
      "text/plain": [
       "array(['Male', nan, 'Female', 'Other'], dtype=object)"
      ]
     },
     "execution_count": 25,
     "metadata": {},
     "output_type": "execute_result"
    }
   ],
   "source": [
    "fordgobike_2018['member_gender'].unique()"
   ]
  },
  {
   "cell_type": "code",
   "execution_count": 26,
   "metadata": {
    "slideshow": {
     "slide_type": "slide"
    }
   },
   "outputs": [
    {
     "data": {
      "text/plain": [
       "array(['Subscriber', 'Customer'], dtype=object)"
      ]
     },
     "execution_count": 26,
     "metadata": {},
     "output_type": "execute_result"
    }
   ],
   "source": [
    "fordgobike_2018['user_type'].unique()"
   ]
  },
  {
   "cell_type": "code",
   "execution_count": 27,
   "metadata": {
    "slideshow": {
     "slide_type": "slide"
    }
   },
   "outputs": [
    {
     "data": {
      "text/plain": [
       "0"
      ]
     },
     "execution_count": 27,
     "metadata": {},
     "output_type": "execute_result"
    }
   ],
   "source": [
    "fordgobike_2018.duplicated().sum()"
   ]
  },
  {
   "cell_type": "markdown",
   "metadata": {
    "slideshow": {
     "slide_type": "skip"
    }
   },
   "source": [
    "<hr>\n",
    "\n",
    "`Summery of Assessing` <br>\n",
    "1. `start_time` and `end_time` are of type string instead of datetime.\n",
    "2. `start_station_id` and `end_station_id` are of type float instead of string.\n",
    "3. `bike_id` is of type int instead of string.\n",
    "4. `member_birth_year` os of type float instead of int.\n",
    "5. `member_birth_year` has missing values."
   ]
  },
  {
   "cell_type": "markdown",
   "metadata": {
    "slideshow": {
     "slide_type": "skip"
    }
   },
   "source": [
    "<a id='clean'></a>\n",
    "<hr>\n",
    "\n",
    "## Cleaning Data"
   ]
  },
  {
   "cell_type": "code",
   "execution_count": 28,
   "metadata": {
    "slideshow": {
     "slide_type": "slide"
    }
   },
   "outputs": [],
   "source": [
    "#create a copy of the dataset\n",
    "fordgobike_clean = fordgobike_2018.copy()"
   ]
  },
  {
   "cell_type": "markdown",
   "metadata": {
    "slideshow": {
     "slide_type": "skip"
    }
   },
   "source": [
    "<hr>\n",
    "\n",
    "#### `1` Define\n",
    "Change `start_time` and 'end_time' columns type from string to datetime"
   ]
  },
  {
   "cell_type": "markdown",
   "metadata": {},
   "source": [
    "#### `2` Code"
   ]
  },
  {
   "cell_type": "code",
   "execution_count": 29,
   "metadata": {},
   "outputs": [],
   "source": [
    "#convert start_time and end_time from string to datetime\n",
    "fordgobike_clean.start_time = pd.to_datetime(fordgobike_clean.start_time)\n",
    "fordgobike_clean.end_time = pd.to_datetime(fordgobike_clean.end_time)"
   ]
  },
  {
   "cell_type": "markdown",
   "metadata": {},
   "source": [
    "#### `3` Test"
   ]
  },
  {
   "cell_type": "code",
   "execution_count": 30,
   "metadata": {},
   "outputs": [
    {
     "name": "stdout",
     "output_type": "stream",
     "text": [
      "type of start_time: datetime64[ns]\n",
      "type of end_time: datetime64[ns]\n"
     ]
    }
   ],
   "source": [
    "print(f'type of start_time: {fordgobike_clean.start_time.dtype}')\n",
    "print(f'type of end_time: {fordgobike_clean.end_time.dtype}')"
   ]
  },
  {
   "cell_type": "markdown",
   "metadata": {},
   "source": [
    "<hr>\n",
    "\n",
    "#### `1` Define\n",
    "Change `start_station_id` and `end_station_id` from float to string"
   ]
  },
  {
   "cell_type": "markdown",
   "metadata": {},
   "source": [
    "#### `2` Code"
   ]
  },
  {
   "cell_type": "code",
   "execution_count": 31,
   "metadata": {},
   "outputs": [],
   "source": [
    "#convert float to int to crop the .0\n",
    "fordgobike_clean['start_station_id']= fordgobike_clean['start_station_id'].apply(lambda x: \"{:.0f}\".format(x) if not pd.isnull(x) else x)\n",
    "fordgobike_clean['end_station_id']= fordgobike_clean['end_station_id'].apply(lambda x: \"{:.0f}\".format(x) if not pd.isnull(x) else x)"
   ]
  },
  {
   "cell_type": "markdown",
   "metadata": {},
   "source": [
    "#### `3` Test"
   ]
  },
  {
   "cell_type": "code",
   "execution_count": 32,
   "metadata": {
    "scrolled": true
   },
   "outputs": [
    {
     "name": "stdout",
     "output_type": "stream",
     "text": [
      "type of start_station_id: object\n",
      "type of end_station_id: object\n"
     ]
    }
   ],
   "source": [
    "print(f'type of start_station_id: {fordgobike_clean.start_station_id.dtype}')\n",
    "print(f'type of end_station_id: {fordgobike_clean.end_station_id.dtype}')"
   ]
  },
  {
   "cell_type": "markdown",
   "metadata": {
    "slideshow": {
     "slide_type": "slide"
    }
   },
   "source": [
    "<hr>\n",
    "\n",
    "#### `1` Define\n",
    "Change `bike_id` from type int to string."
   ]
  },
  {
   "cell_type": "markdown",
   "metadata": {},
   "source": [
    "#### `2` Code"
   ]
  },
  {
   "cell_type": "code",
   "execution_count": 33,
   "metadata": {},
   "outputs": [],
   "source": [
    "#convert the bike_id column from int to string\n",
    "fordgobike_clean['bike_id'] = fordgobike_clean['bike_id'].astype(str)"
   ]
  },
  {
   "cell_type": "markdown",
   "metadata": {},
   "source": [
    "#### `3` Test"
   ]
  },
  {
   "cell_type": "code",
   "execution_count": 34,
   "metadata": {},
   "outputs": [
    {
     "name": "stdout",
     "output_type": "stream",
     "text": [
      "type of bike_id: object\n"
     ]
    }
   ],
   "source": [
    "print(f'type of bike_id: {fordgobike_clean.bike_id.dtype}')"
   ]
  },
  {
   "cell_type": "markdown",
   "metadata": {},
   "source": [
    "<hr>\n",
    "\n",
    "#### `1` Define\n",
    "Change `member_birth_year` from type float to int"
   ]
  },
  {
   "cell_type": "markdown",
   "metadata": {},
   "source": [
    "#### `2` Code"
   ]
  },
  {
   "cell_type": "code",
   "execution_count": 35,
   "metadata": {},
   "outputs": [
    {
     "data": {
      "text/plain": [
       "0"
      ]
     },
     "execution_count": 35,
     "metadata": {},
     "output_type": "execute_result"
    }
   ],
   "source": [
    "#convert nan values to 0 before converting type to int\n",
    "fordgobike_clean['member_birth_year']= fordgobike_clean['member_birth_year'].fillna(0)\n",
    "sum(fordgobike_clean['member_birth_year'].isna())"
   ]
  },
  {
   "cell_type": "code",
   "execution_count": 36,
   "metadata": {},
   "outputs": [],
   "source": [
    "#convert the member_birth_year column from float to int\n",
    "fordgobike_clean['member_birth_year'] = fordgobike_clean['member_birth_year'].astype(int)"
   ]
  },
  {
   "cell_type": "markdown",
   "metadata": {},
   "source": [
    "#### `3` Test"
   ]
  },
  {
   "cell_type": "code",
   "execution_count": 37,
   "metadata": {},
   "outputs": [
    {
     "name": "stdout",
     "output_type": "stream",
     "text": [
      "type of member_birth_year: int64\n"
     ]
    }
   ],
   "source": [
    "print(f'type of member_birth_year: {fordgobike_clean.member_birth_year.dtype}')"
   ]
  },
  {
   "cell_type": "markdown",
   "metadata": {},
   "source": [
    "<hr>\n",
    "\n",
    "#### `1` Define\n",
    "Create a new column for age `member_age` by:<br>\n",
    "\n",
    "  `1.` Drop entries with no `member_birth_year`.<br>\n",
    "  `2.` Extract age from subtracting the `member_birth_year` from current year.<br>\n",
    "  `3.` Deal with outliers."
   ]
  },
  {
   "cell_type": "markdown",
   "metadata": {},
   "source": [
    "#### `2` Code"
   ]
  },
  {
   "cell_type": "code",
   "execution_count": 38,
   "metadata": {},
   "outputs": [],
   "source": [
    "#drop nan values\n",
    "fordgobike_clean = fordgobike_clean.drop(fordgobike_clean[fordgobike_clean['member_birth_year']==0].index)"
   ]
  },
  {
   "cell_type": "code",
   "execution_count": 39,
   "metadata": {},
   "outputs": [],
   "source": [
    "#subtract the birth year from the current year\n",
    "fordgobike_clean['member_age'] = 2020 - fordgobike_clean['member_birth_year']"
   ]
  },
  {
   "cell_type": "markdown",
   "metadata": {},
   "source": [
    "#### `3` Test"
   ]
  },
  {
   "cell_type": "code",
   "execution_count": 40,
   "metadata": {},
   "outputs": [
    {
     "data": {
      "text/plain": [
       "array([ 34,  24,  29,  32,  40,  33,  26,  27,  63,  44,  56,  25,  23,\n",
       "        37,  75,  49,  45,  42,  39,  30,  50,  28,  31,  38,  35,  54,\n",
       "        22,  47,  41,  64,  36, 109,  69,  55,  57,  48,  51,  52,  43,\n",
       "        61,  60,  77,  62,  46,  21,  53,  84,  66,  65,  58,  59,  71,\n",
       "        78, 118,  70,  73,  80,  72,  68,  76,  85,  67,  86, 120,  92,\n",
       "        87,  96,  82,  79,  74,  81,  20, 119, 111, 116, 100, 114, 131,\n",
       "        88,  93,  90, 139, 132, 106,  89, 117])"
      ]
     },
     "execution_count": 40,
     "metadata": {},
     "output_type": "execute_result"
    }
   ],
   "source": [
    "fordgobike_clean.member_age.unique()"
   ]
  },
  {
   "cell_type": "code",
   "execution_count": 41,
   "metadata": {},
   "outputs": [
    {
     "name": "stdout",
     "output_type": "stream",
     "text": [
      "mean age is: 36\n"
     ]
    }
   ],
   "source": [
    "print(f'mean age is: {int(fordgobike_clean.member_age.mean())}')"
   ]
  },
  {
   "cell_type": "code",
   "execution_count": 42,
   "metadata": {
    "scrolled": true,
    "slideshow": {
     "slide_type": "slide"
    }
   },
   "outputs": [
    {
     "data": {
      "text/plain": [
       "<matplotlib.axes._subplots.AxesSubplot at 0x15cf29128>"
      ]
     },
     "execution_count": 42,
     "metadata": {},
     "output_type": "execute_result"
    },
    {
     "data": {
      "image/png": "[encoded data removed]",
      "text/plain": [
       "<Figure size 432x288 with 1 Axes>"
      ]
     },
     "metadata": {
      "needs_background": "light"
     },
     "output_type": "display_data"
    }
   ],
   "source": [
    "base_color = sb.color_palette()[9]\n",
    "sb.boxplot(data = fordgobike_clean, x = 'member_age', orient=\"h\", color=base_color)"
   ]
  },
  {
   "cell_type": "markdown",
   "metadata": {},
   "source": [
    "Looks like ages range from 20 to around 60 and the mean is 36, with outliers untill 140, which I don't believe make sense, so let's drop these outliers"
   ]
  },
  {
   "cell_type": "code",
   "execution_count": 43,
   "metadata": {},
   "outputs": [],
   "source": [
    "#get rid of outliers\n",
    "fordgobike_clean = fordgobike_clean[fordgobike_clean['member_age'] <= 65]"
   ]
  },
  {
   "cell_type": "code",
   "execution_count": 44,
   "metadata": {
    "scrolled": true
   },
   "outputs": [
    {
     "data": {
      "text/plain": [
       "array([34, 24, 29, 32, 40, 33, 26, 27, 63, 44, 56, 25, 23, 37, 49, 45, 42,\n",
       "       39, 30, 50, 28, 31, 38, 35, 54, 22, 47, 41, 64, 36, 55, 57, 48, 51,\n",
       "       52, 43, 61, 60, 62, 46, 21, 53, 65, 58, 59, 20])"
      ]
     },
     "execution_count": 44,
     "metadata": {},
     "output_type": "execute_result"
    }
   ],
   "source": [
    "#check for unique values in age one last time\n",
    "fordgobike_clean['member_age'].unique()"
   ]
  },
  {
   "cell_type": "markdown",
   "metadata": {},
   "source": [
    "<hr>\n",
    "\n",
    "#### `1` Define\n",
    "Create a new columns for `start_time_month`, `start_time_dayofweek` and `start_time_hour` using the `start_time` column"
   ]
  },
  {
   "cell_type": "markdown",
   "metadata": {},
   "source": [
    "#### `2` Code"
   ]
  },
  {
   "cell_type": "code",
   "execution_count": 45,
   "metadata": {},
   "outputs": [],
   "source": [
    "#extract start time month name\n",
    "fordgobike_clean['start_time_month'] = fordgobike_clean['start_time'].dt.strftime('%B')\n",
    "#extract start time weekdays\n",
    "fordgobike_clean['start_time_dayofweek'] = fordgobike_clean['start_time'].dt.strftime('%a')\n",
    "#extract start time hour\n",
    "fordgobike_clean['start_time_hour'] = fordgobike_clean['start_time'].dt.hour"
   ]
  },
  {
   "cell_type": "code",
   "execution_count": 46,
   "metadata": {},
   "outputs": [],
   "source": [
    "#Order start_time_dayofweek\n",
    "weekdays = ['Mon','Tue','Wed','Thu','Fri', 'Sat', 'Sun']\n",
    "ordered_weekdays = pd.api.types.CategoricalDtype(ordered = True, categories = weekdays)\n",
    "fordgobike_clean['start_time_dayofweek'] = fordgobike_clean['start_time_dayofweek'].astype(ordered_weekdays)"
   ]
  },
  {
   "cell_type": "markdown",
   "metadata": {},
   "source": [
    "#### `2` Test"
   ]
  },
  {
   "cell_type": "code",
   "execution_count": 47,
   "metadata": {
    "scrolled": true
   },
   "outputs": [
    {
     "data": {
      "text/html": [
       "<div>\n",
       "<style scoped>\n",
       "    .dataframe tbody tr th:only-of-type {\n",
       "        vertical-align: middle;\n",
       "    }\n",
       "\n",
       "    .dataframe tbody tr th {\n",
       "        vertical-align: top;\n",
       "    }\n",
       "\n",
       "    .dataframe thead th {\n",
       "        text-align: right;\n",
       "    }\n",
       "</style>\n",
       "<table border=\"1\" class=\"dataframe\">\n",
       "  <thead>\n",
       "    <tr style=\"text-align: right;\">\n",
       "      <th></th>\n",
       "      <th>duration_sec</th>\n",
       "      <th>start_time</th>\n",
       "      <th>end_time</th>\n",
       "      <th>start_station_id</th>\n",
       "      <th>start_station_name</th>\n",
       "      <th>start_station_latitude</th>\n",
       "      <th>start_station_longitude</th>\n",
       "      <th>end_station_id</th>\n",
       "      <th>end_station_name</th>\n",
       "      <th>end_station_latitude</th>\n",
       "      <th>end_station_longitude</th>\n",
       "      <th>bike_id</th>\n",
       "      <th>user_type</th>\n",
       "      <th>member_birth_year</th>\n",
       "      <th>member_gender</th>\n",
       "      <th>bike_share_for_all_trip</th>\n",
       "      <th>member_age</th>\n",
       "      <th>start_time_month</th>\n",
       "      <th>start_time_dayofweek</th>\n",
       "      <th>start_time_hour</th>\n",
       "    </tr>\n",
       "  </thead>\n",
       "  <tbody>\n",
       "    <tr>\n",
       "      <th>0</th>\n",
       "      <td>75284</td>\n",
       "      <td>2018-01-31 22:52:35.239</td>\n",
       "      <td>2018-02-01 19:47:19.824</td>\n",
       "      <td>120</td>\n",
       "      <td>Mission Dolores Park</td>\n",
       "      <td>37.761420</td>\n",
       "      <td>-122.426435</td>\n",
       "      <td>285</td>\n",
       "      <td>Webster St at O'Farrell St</td>\n",
       "      <td>37.783521</td>\n",
       "      <td>-122.431158</td>\n",
       "      <td>2765</td>\n",
       "      <td>Subscriber</td>\n",
       "      <td>1986</td>\n",
       "      <td>Male</td>\n",
       "      <td>No</td>\n",
       "      <td>34</td>\n",
       "      <td>January</td>\n",
       "      <td>Wed</td>\n",
       "      <td>22</td>\n",
       "    </tr>\n",
       "    <tr>\n",
       "      <th>2</th>\n",
       "      <td>71576</td>\n",
       "      <td>2018-01-31 14:23:55.889</td>\n",
       "      <td>2018-02-01 10:16:52.116</td>\n",
       "      <td>304</td>\n",
       "      <td>Jackson St at 5th St</td>\n",
       "      <td>37.348759</td>\n",
       "      <td>-121.894798</td>\n",
       "      <td>296</td>\n",
       "      <td>5th St at Virginia St</td>\n",
       "      <td>37.325998</td>\n",
       "      <td>-121.877120</td>\n",
       "      <td>3039</td>\n",
       "      <td>Customer</td>\n",
       "      <td>1996</td>\n",
       "      <td>Male</td>\n",
       "      <td>No</td>\n",
       "      <td>24</td>\n",
       "      <td>January</td>\n",
       "      <td>Wed</td>\n",
       "      <td>14</td>\n",
       "    </tr>\n",
       "    <tr>\n",
       "      <th>4</th>\n",
       "      <td>39966</td>\n",
       "      <td>2018-01-31 19:52:24.667</td>\n",
       "      <td>2018-02-01 06:58:31.053</td>\n",
       "      <td>74</td>\n",
       "      <td>Laguna St at Hayes St</td>\n",
       "      <td>37.776435</td>\n",
       "      <td>-122.426244</td>\n",
       "      <td>19</td>\n",
       "      <td>Post St at Kearny St</td>\n",
       "      <td>37.788975</td>\n",
       "      <td>-122.403452</td>\n",
       "      <td>617</td>\n",
       "      <td>Subscriber</td>\n",
       "      <td>1991</td>\n",
       "      <td>Male</td>\n",
       "      <td>No</td>\n",
       "      <td>29</td>\n",
       "      <td>January</td>\n",
       "      <td>Wed</td>\n",
       "      <td>19</td>\n",
       "    </tr>\n",
       "    <tr>\n",
       "      <th>6</th>\n",
       "      <td>453</td>\n",
       "      <td>2018-01-31 23:53:53.632</td>\n",
       "      <td>2018-02-01 00:01:26.805</td>\n",
       "      <td>110</td>\n",
       "      <td>17th &amp; Folsom Street Park (17th St at Folsom St)</td>\n",
       "      <td>37.763708</td>\n",
       "      <td>-122.415204</td>\n",
       "      <td>134</td>\n",
       "      <td>Valencia St at 24th St</td>\n",
       "      <td>37.752428</td>\n",
       "      <td>-122.420628</td>\n",
       "      <td>3571</td>\n",
       "      <td>Subscriber</td>\n",
       "      <td>1988</td>\n",
       "      <td>Male</td>\n",
       "      <td>No</td>\n",
       "      <td>32</td>\n",
       "      <td>January</td>\n",
       "      <td>Wed</td>\n",
       "      <td>23</td>\n",
       "    </tr>\n",
       "    <tr>\n",
       "      <th>7</th>\n",
       "      <td>180</td>\n",
       "      <td>2018-01-31 23:52:09.903</td>\n",
       "      <td>2018-01-31 23:55:10.807</td>\n",
       "      <td>81</td>\n",
       "      <td>Berry St at 4th St</td>\n",
       "      <td>37.775880</td>\n",
       "      <td>-122.393170</td>\n",
       "      <td>93</td>\n",
       "      <td>4th St at Mission Bay Blvd S</td>\n",
       "      <td>37.770407</td>\n",
       "      <td>-122.391198</td>\n",
       "      <td>1403</td>\n",
       "      <td>Subscriber</td>\n",
       "      <td>1980</td>\n",
       "      <td>Male</td>\n",
       "      <td>No</td>\n",
       "      <td>40</td>\n",
       "      <td>January</td>\n",
       "      <td>Wed</td>\n",
       "      <td>23</td>\n",
       "    </tr>\n",
       "  </tbody>\n",
       "</table>\n",
       "</div>"
      ],
      "text/plain": [
       "   duration_sec              start_time                end_time  \\\n",
       "0         75284 2018-01-31 22:52:35.239 2018-02-01 19:47:19.824   \n",
       "2         71576 2018-01-31 14:23:55.889 2018-02-01 10:16:52.116   \n",
       "4         39966 2018-01-31 19:52:24.667 2018-02-01 06:58:31.053   \n",
       "6           453 2018-01-31 23:53:53.632 2018-02-01 00:01:26.805   \n",
       "7           180 2018-01-31 23:52:09.903 2018-01-31 23:55:10.807   \n",
       "\n",
       "  start_station_id                                start_station_name  \\\n",
       "0              120                              Mission Dolores Park   \n",
       "2              304                              Jackson St at 5th St   \n",
       "4               74                             Laguna St at Hayes St   \n",
       "6              110  17th & Folsom Street Park (17th St at Folsom St)   \n",
       "7               81                                Berry St at 4th St   \n",
       "\n",
       "   start_station_latitude  start_station_longitude end_station_id  \\\n",
       "0               37.761420              -122.426435            285   \n",
       "2               37.348759              -121.894798            296   \n",
       "4               37.776435              -122.426244             19   \n",
       "6               37.763708              -122.415204            134   \n",
       "7               37.775880              -122.393170             93   \n",
       "\n",
       "               end_station_name  end_station_latitude  end_station_longitude  \\\n",
       "0    Webster St at O'Farrell St             37.783521            -122.431158   \n",
       "2         5th St at Virginia St             37.325998            -121.877120   \n",
       "4          Post St at Kearny St             37.788975            -122.403452   \n",
       "6        Valencia St at 24th St             37.752428            -122.420628   \n",
       "7  4th St at Mission Bay Blvd S             37.770407            -122.391198   \n",
       "\n",
       "  bike_id   user_type  member_birth_year member_gender  \\\n",
       "0    2765  Subscriber               1986          Male   \n",
       "2    3039    Customer               1996          Male   \n",
       "4     617  Subscriber               1991          Male   \n",
       "6    3571  Subscriber               1988          Male   \n",
       "7    1403  Subscriber               1980          Male   \n",
       "\n",
       "  bike_share_for_all_trip  member_age start_time_month start_time_dayofweek  \\\n",
       "0                      No          34          January                  Wed   \n",
       "2                      No          24          January                  Wed   \n",
       "4                      No          29          January                  Wed   \n",
       "6                      No          32          January                  Wed   \n",
       "7                      No          40          January                  Wed   \n",
       "\n",
       "   start_time_hour  \n",
       "0               22  \n",
       "2               14  \n",
       "4               19  \n",
       "6               23  \n",
       "7               23  "
      ]
     },
     "execution_count": 47,
     "metadata": {},
     "output_type": "execute_result"
    }
   ],
   "source": [
    "fordgobike_clean.head()"
   ]
  },
  {
   "cell_type": "markdown",
   "metadata": {},
   "source": [
    "### What is the structure of your dataset?\n",
    "\n",
    "There are 1863721 entries in Gobike data from January 2019 to March 2020 with 16 features these include information about trip duration including:(`Trip Duration`, `StartDate` and `EndDate`) and station information including : (`Start Station ID`,`Name`, `Latitude` and `Longitude`, `End Station ID`, `Name`, `Latitude` and `Longitude`), along with information about the member these includes `member_birth_year`, `member_gender` and `bike_id`, `user_type` and finally the `rental_access_method`.\n",
    "### What is/are the main feature(s) of interest in your dataset?\n",
    "I'm most interested in figuring out what features are best for predicting the biking duration for this dataset. \n",
    "\n",
    "### What features in the dataset do you think will help support your investigation into your feature(s) of interest?\n",
    "\n",
    "I expect that trip duration will have the strong effect with start_time and age and gender but further investegating may show some interesting finding of relation between gender or age and the duration of biking trip.\n"
   ]
  },
  {
   "cell_type": "markdown",
   "metadata": {},
   "source": [
    "<a id='Visual'></a>\n",
    "<hr>\n",
    "\n",
    "## Analyzing and Visualizng Data"
   ]
  },
  {
   "cell_type": "markdown",
   "metadata": {},
   "source": [
    "<a id='uni'></a>\n",
    "\n",
    "## Univariate Exploration"
   ]
  },
  {
   "cell_type": "code",
   "execution_count": 48,
   "metadata": {},
   "outputs": [
    {
     "data": {
      "image/png": "[encoded data removed]",
      "text/plain": [
       "<Figure size 576x432 with 1 Axes>"
      ]
     },
     "metadata": {
      "needs_background": "light"
     },
     "output_type": "display_data"
    }
   ],
   "source": [
    "plt.rcParams['figure.figsize'] = 8, 6\n",
    "base_color = sb.color_palette()[4]\n",
    "sb.countplot(data=fordgobike_clean, x='start_time_dayofweek', color=base_color)\n",
    "plt.xlabel('Trip Start Day of Week')\n",
    "plt.ylabel('Count')\n",
    "plt.gca().yaxis.set_major_formatter(plt.ScalarFormatter(useMathText=True))\n",
    "plt.title('Count of Biking Trips each day')\n",
    "sb.despine()"
   ]
  },
  {
   "cell_type": "markdown",
   "metadata": {},
   "source": [
    "The trip distribution over days of the week, it is clear that the majority of rides are on working days (Monday to Friday) and much less during weekends( Saturday and Sunday)"
   ]
  },
  {
   "cell_type": "code",
   "execution_count": 49,
   "metadata": {},
   "outputs": [
    {
     "data": {
      "image/png": "[encoded data removed]",
      "text/plain": [
       "<Figure size 576x432 with 1 Axes>"
      ]
     },
     "metadata": {
      "needs_background": "light"
     },
     "output_type": "display_data"
    }
   ],
   "source": [
    "base_color = sb.color_palette()[1]\n",
    "sb.countplot(data=fordgobike_clean, y='start_time_month', color=base_color)\n",
    "plt.xlabel('Count')\n",
    "plt.ylabel('Trip Start month')\n",
    "plt.gca().xaxis.set_major_formatter(plt.ScalarFormatter(useMathText=True))\n",
    "plt.title('Count of Biking Trips each month')\n",
    "sb.despine()"
   ]
  },
  {
   "cell_type": "markdown",
   "metadata": {},
   "source": [
    "The trip distribution over months of the year shows that October has the most ride trips but generally speaking more biking trips are during summer time (May to September)."
   ]
  },
  {
   "cell_type": "code",
   "execution_count": 50,
   "metadata": {},
   "outputs": [
    {
     "data": {
      "image/png": "[encoded data removed]",
      "text/plain": [
       "<Figure size 576x432 with 1 Axes>"
      ]
     },
     "metadata": {
      "needs_background": "light"
     },
     "output_type": "display_data"
    }
   ],
   "source": [
    "base_color = sb.color_palette()[3]\n",
    "sb.countplot(data=fordgobike_clean, x='start_time_hour', color=base_color)\n",
    "plt.xlabel('Trip Start hour')\n",
    "plt.ylabel('Count')\n",
    "plt.gca().yaxis.set_major_formatter(plt.ScalarFormatter(useMathText=True))\n",
    "plt.title('Count of Biking Trips each hour of the day')\n",
    "sb.despine()"
   ]
  },
  {
   "cell_type": "markdown",
   "metadata": {},
   "source": [
    "The trip distribution over hours of the day hours have two peak values at around 8-9am and 17-18pm. Not surprising at all we know people come and leave work by those times."
   ]
  },
  {
   "cell_type": "code",
   "execution_count": 80,
   "metadata": {
    "slideshow": {
     "slide_type": "slide"
    }
   },
   "outputs": [
    {
     "data": {
      "image/png": "[encoded data removed]",
      "text/plain": [
       "<Figure size 576x432 with 1 Axes>"
      ]
     },
     "metadata": {
      "needs_background": "light"
     },
     "output_type": "display_data"
    }
   ],
   "source": [
    "base_color = sb.color_palette()[8]\n",
    "sb.countplot(data=fordgobike_clean, x='member_gender', color=base_color)\n",
    "plt.xlabel('Gender')\n",
    "plt.ylabel('Count')\n",
    "plt.gca().yaxis.set_major_formatter(plt.ScalarFormatter(useMathText=True))\n",
    "plt.title('Distribustion of Biking Trips by Gender')\n",
    "sb.despine()"
   ]
  },
  {
   "cell_type": "markdown",
   "metadata": {},
   "source": [
    "Most riders were males (they're about 3 times more than female riders). "
   ]
  },
  {
   "cell_type": "code",
   "execution_count": 52,
   "metadata": {},
   "outputs": [],
   "source": [
    "subscribers = fordgobike_clean.query('user_type == \"Subscriber\"').bike_id.count() / fordgobike_clean.bike_id.count()\n",
    "customers = fordgobike_clean.query('user_type == \"Customer\"').bike_id.count() / fordgobike_clean.bike_id.count()"
   ]
  },
  {
   "cell_type": "code",
   "execution_count": 53,
   "metadata": {},
   "outputs": [
    {
     "data": {
      "text/plain": [
       "Text(0.5, 1.0, 'Distribustion of Biking Trips by User Type')"
      ]
     },
     "execution_count": 53,
     "metadata": {},
     "output_type": "execute_result"
    },
    {
     "data": {
      "image/png": "[encoded data removed]",
      "text/plain": [
       "<Figure size 576x432 with 1 Axes>"
      ]
     },
     "metadata": {},
     "output_type": "display_data"
    }
   ],
   "source": [
    "labels = ['Customer', 'Subscriber']\n",
    "sizes = [customers, subscribers]\n",
    "colors = [sb.color_palette()[1], sb.color_palette()[2]]\n",
    "explode = (0, 0.1)\n",
    "plt.pie(sizes, labels=labels, autopct='%1.1f%%', colors=colors, explode=explode)\n",
    "plt.title('Distribustion of Biking Trips by User Type')"
   ]
  },
  {
   "cell_type": "markdown",
   "metadata": {},
   "source": [
    "Most riders are Subscribers, They're 9 times more than normal customers"
   ]
  },
  {
   "cell_type": "code",
   "execution_count": 54,
   "metadata": {},
   "outputs": [],
   "source": [
    "bike_share = fordgobike_clean.query('bike_share_for_all_trip == \"Yes\"').bike_id.count() / fordgobike_clean.bike_id.count()\n",
    "bike_no_share = fordgobike_clean.query('bike_share_for_all_trip == \"No\"').bike_id.count() / fordgobike_clean.bike_id.count()"
   ]
  },
  {
   "cell_type": "code",
   "execution_count": 55,
   "metadata": {},
   "outputs": [
    {
     "data": {
      "text/plain": [
       "Text(0.5, 1.0, 'Distribustion of Biking Trips by bike_share_for_all_trip')"
      ]
     },
     "execution_count": 55,
     "metadata": {},
     "output_type": "execute_result"
    },
    {
     "data": {
      "image/png": "[encoded data removed]",
      "text/plain": [
       "<Figure size 576x432 with 1 Axes>"
      ]
     },
     "metadata": {},
     "output_type": "display_data"
    }
   ],
   "source": [
    "labels = ['Yes', 'No']\n",
    "sizes = [bike_share, bike_no_share]\n",
    "explode = (0, 0.1)\n",
    "plt.pie(sizes, labels=labels, autopct='%1.1f%%', explode=explode)\n",
    "plt.title('Distribustion of Biking Trips by bike_share_for_all_trip')"
   ]
  },
  {
   "cell_type": "markdown",
   "metadata": {},
   "source": [
    "Most riders didn't share their bike for all trips as seen in the previous pie chart."
   ]
  },
  {
   "cell_type": "code",
   "execution_count": 56,
   "metadata": {
    "slideshow": {
     "slide_type": "slide"
    }
   },
   "outputs": [
    {
     "data": {
      "image/png": "[encoded data removed]",
      "text/plain": [
       "<Figure size 576x432 with 1 Axes>"
      ]
     },
     "metadata": {
      "needs_background": "light"
     },
     "output_type": "display_data"
    }
   ],
   "source": [
    "base_color = sb.color_palette()[4]\n",
    "bins = np.arange(20, fordgobike_clean['member_age'].max() + 1, 1)\n",
    "ticks = np.arange(20, fordgobike_clean['member_age'].max() + 5, 5)\n",
    "plt.hist(data=fordgobike_clean, x='member_age', color=base_color, bins=bins)\n",
    "plt.xlabel('Ages of members')\n",
    "plt.ylabel('Count')\n",
    "plt.xticks(ticks, ticks)\n",
    "plt.gca().yaxis.set_major_formatter(plt.ScalarFormatter(useMathText=True))\n",
    "plt.title('Distribustion of member ages')\n",
    "sb.despine()"
   ]
  },
  {
   "cell_type": "code",
   "execution_count": 57,
   "metadata": {},
   "outputs": [
    {
     "name": "stdout",
     "output_type": "stream",
     "text": [
      "mean of ages is: 36\n",
      "median of ages is: 34\n"
     ]
    }
   ],
   "source": [
    "print(f'mean of ages is: {int(fordgobike_clean.member_age.mean())}')\n",
    "print(f'median of ages is: {int(fordgobike_clean.member_age.median())}')"
   ]
  },
  {
   "cell_type": "markdown",
   "metadata": {},
   "source": [
    "Most members ages are between 25 to 45 years old, with mean avarage of 36 and emedian of 34 years old"
   ]
  },
  {
   "cell_type": "code",
   "execution_count": 58,
   "metadata": {
    "slideshow": {
     "slide_type": "slide"
    }
   },
   "outputs": [
    {
     "data": {
      "image/png": "[encoded data removed]",
      "text/plain": [
       "<Figure size 576x432 with 1 Axes>"
      ]
     },
     "metadata": {
      "needs_background": "light"
     },
     "output_type": "display_data"
    }
   ],
   "source": [
    "base_color = sb.color_palette()[6]\n",
    "bins = np.arange(0, 70, 1)\n",
    "ticks = np.arange(0, 70, 5)\n",
    "plt.hist(data=fordgobike_clean, x='duration_sec', bins=bins, color=base_color)\n",
    "plt.xticks(ticks, ticks)\n",
    "plt.xlabel('Trip Duration in sec')\n",
    "plt.title('Distribustion of Duration of biking trips in sec')\n",
    "sb.despine()"
   ]
  },
  {
   "cell_type": "markdown",
   "metadata": {},
   "source": [
    "It looks like most trips are more than a minute long, which makes total sense, so let's take a look at trip duration in minutes instead"
   ]
  },
  {
   "cell_type": "code",
   "execution_count": 59,
   "metadata": {},
   "outputs": [],
   "source": [
    "fordgobike_clean['duration_min']= fordgobike_clean['duration_sec'] / 60"
   ]
  },
  {
   "cell_type": "code",
   "execution_count": 60,
   "metadata": {},
   "outputs": [
    {
     "data": {
      "image/png": "[encoded data removed]",
      "text/plain": [
       "<Figure size 576x432 with 1 Axes>"
      ]
     },
     "metadata": {
      "needs_background": "light"
     },
     "output_type": "display_data"
    }
   ],
   "source": [
    "bins = np.arange(0, 70, 1)\n",
    "ticks = np.arange(0, 70, 5)\n",
    "plt.hist(data=fordgobike_clean, x='duration_min', bins =bins, color=base_color)\n",
    "plt.xticks(ticks, ticks)\n",
    "plt.xlabel('Trip Duration in mins')\n",
    "plt.title('Distribustion of Duration of biking trips in mins')\n",
    "sb.despine()"
   ]
  },
  {
   "cell_type": "code",
   "execution_count": 61,
   "metadata": {},
   "outputs": [
    {
     "data": {
      "text/plain": [
       "Text(0.5, 1.0, 'Distribustion of Duration of biking trips in mins')"
      ]
     },
     "execution_count": 61,
     "metadata": {},
     "output_type": "execute_result"
    },
    {
     "data": {
      "image/png": "[encoded data removed]",
      "text/plain": [
       "<Figure size 576x432 with 1 Axes>"
      ]
     },
     "metadata": {
      "needs_background": "light"
     },
     "output_type": "display_data"
    }
   ],
   "source": [
    "sb.boxplot(data = fordgobike_clean, x = 'duration_min', orient=\"h\")\n",
    "plt.title('Distribustion of Duration of biking trips in mins')"
   ]
  },
  {
   "cell_type": "markdown",
   "metadata": {},
   "source": [
    "## holy moly!\n",
    "We need to drop out some off these extreme outliers by calculating th equartile and median, we can figure out which values we can drop"
   ]
  },
  {
   "cell_type": "code",
   "execution_count": 62,
   "metadata": {},
   "outputs": [
    {
     "data": {
      "text/plain": [
       "0.25     5.733333\n",
       "0.50     9.033333\n",
       "0.75    13.966667\n",
       "Name: duration_min, dtype: float64"
      ]
     },
     "execution_count": 62,
     "metadata": {},
     "output_type": "execute_result"
    }
   ],
   "source": [
    "fordgobike_clean.duration_min.quantile([0.25,0.5,0.75])"
   ]
  },
  {
   "cell_type": "code",
   "execution_count": 63,
   "metadata": {},
   "outputs": [],
   "source": [
    "fordgobike_clean = fordgobike_clean[fordgobike_clean['duration_min'] <= 50]"
   ]
  },
  {
   "cell_type": "code",
   "execution_count": 64,
   "metadata": {},
   "outputs": [
    {
     "data": {
      "text/plain": [
       "0.25     5.700000\n",
       "0.50     8.933333\n",
       "0.75    13.666667\n",
       "Name: duration_min, dtype: float64"
      ]
     },
     "execution_count": 64,
     "metadata": {},
     "output_type": "execute_result"
    }
   ],
   "source": [
    "fordgobike_clean.duration_min.quantile([0.25,0.5,0.75])"
   ]
  },
  {
   "cell_type": "code",
   "execution_count": 65,
   "metadata": {},
   "outputs": [
    {
     "data": {
      "text/plain": [
       "Text(0.5, 1.0, 'Distribustion of Duration of biking trips in mins')"
      ]
     },
     "execution_count": 65,
     "metadata": {},
     "output_type": "execute_result"
    },
    {
     "data": {
      "image/png": "[encoded data removed]",
      "text/plain": [
       "<Figure size 576x432 with 1 Axes>"
      ]
     },
     "metadata": {
      "needs_background": "light"
     },
     "output_type": "display_data"
    }
   ],
   "source": [
    "sb.boxplot(data = fordgobike_clean, x = 'duration_min', orient=\"h\")\n",
    "plt.title('Distribustion of Duration of biking trips in mins')\n"
   ]
  },
  {
   "cell_type": "markdown",
   "metadata": {
    "slideshow": {
     "slide_type": "skip"
    }
   },
   "source": [
    "### Discuss the distribution(s) of your variable(s) of interest. Were there any unusual points? Did you need to perform any transformations?\n",
    "\n",
    "**Hours-wise**: Biking trips count have a peak values at around 8-9am and 17-18pm during each day of the week.<br>\n",
    "**Day-of-week-wise**: Biking trips count are much more on working than in to weekends.<br>\n",
    "**Month-of-year-wise**: Biking trips count have a peak value in May to October.<br>\n",
    "**Gender-wise**: Members are more males than female.<br>\n",
    "**User-type-wise**: Members are more subscribers than to casual riders.<br>\n",
    "**Share-alltrips-wise-wise**: Members who don't share their all trips are more than who do. <br>\n",
    "**Age-wise**: Members ages are between 25 to 45 years old.<br>\n",
    "**Trip-duration-wise**: Most rides were between 5 to 10 minutes long, with large outliers up to 1400 mins (23 hours long).<br>\n",
    "\n",
    "No need to transforamtion in the dataset.\n",
    "\n",
    "### Of the features you investigated, were there any unusual distributions? Did you perform any operations on the data to tidy, adjust, or change the form of the data? If so, why did you do this?\n",
    "\n",
    "When I calculated the memeber ages, most of them were under 60 year old, with outliers upto 140 years. which didn't make sense so I get rid of those large ones.\n",
    "\n",
    "Duration in sec was not that meaningfull so I had to plot the duration of trips by minutes instead, which indeed made more usefull insights."
   ]
  },
  {
   "cell_type": "markdown",
   "metadata": {},
   "source": [
    "<a id='store'></a>\n",
    "<hr>\n",
    "\n",
    "## Storing Data\n",
    "Storing clean data into csv file called: `2018-fordgobike-tripdata_clean.csv`"
   ]
  },
  {
   "cell_type": "code",
   "execution_count": 66,
   "metadata": {},
   "outputs": [],
   "source": [
    "#store dataframe into twitter_archive_master.csv\n",
    "fordgobike_clean.to_csv('2018-fordgobike-tripdata_clean.csv', encoding='utf-8', index=False)"
   ]
  },
  {
   "cell_type": "markdown",
   "metadata": {},
   "source": [
    "<a id='bi'></a>\n",
    "<hr>\n",
    "\n",
    "\n",
    "## Bivariate Exploration"
   ]
  },
  {
   "cell_type": "markdown",
   "metadata": {},
   "source": [
    "#### Q1:  What is the difference in the trip duration distribution between differnet ages?"
   ]
  },
  {
   "cell_type": "code",
   "execution_count": 67,
   "metadata": {},
   "outputs": [
    {
     "data": {
      "text/plain": [
       "<matplotlib.colorbar.Colorbar at 0x15e7ceda0>"
      ]
     },
     "execution_count": 67,
     "metadata": {},
     "output_type": "execute_result"
    },
    {
     "data": {
      "image/png": "[encoded data removed]",
      "text/plain": [
       "<Figure size 576x432 with 2 Axes>"
      ]
     },
     "metadata": {
      "needs_background": "light"
     },
     "output_type": "display_data"
    }
   ],
   "source": [
    "binsx = np.arange(0, fordgobike_clean['member_age'].max()+5, 10)\n",
    "binsy = np.arange(1, fordgobike_clean['duration_min'].max() +1, 24)\n",
    "plt.hist2d(fordgobike_clean['member_age'], fordgobike_clean['duration_min'], bins = [binsx, binsy])\n",
    "plt.title('Distribustion of Duration of biking trips in mins vs age')\n",
    "plt.colorbar()"
   ]
  },
  {
   "cell_type": "markdown",
   "metadata": {},
   "source": [
    "#### Q2: What is the difference in the trip duration distribution between differnet genders?"
   ]
  },
  {
   "cell_type": "code",
   "execution_count": 68,
   "metadata": {
    "scrolled": true
   },
   "outputs": [
    {
     "data": {
      "text/plain": [
       "Text(0.5, 1.0, 'Trip duration vs Gender')"
      ]
     },
     "execution_count": 68,
     "metadata": {},
     "output_type": "execute_result"
    },
    {
     "data": {
      "image/png": "[encoded data removed]",
      "text/plain": [
       "<Figure size 576x432 with 1 Axes>"
      ]
     },
     "metadata": {
      "needs_background": "light"
     },
     "output_type": "display_data"
    }
   ],
   "source": [
    "base_color = sb.color_palette()[1]\n",
    "sb.boxplot(data=fordgobike_clean, x='member_gender', y='duration_min', showfliers=False, showbox=False, whis=[2.5,97.5])\n",
    "sb.violinplot(data=fordgobike_clean, x='member_gender', y='duration_min', color=base_color)\n",
    "plt.title('Trip duration vs Gender')"
   ]
  },
  {
   "cell_type": "markdown",
   "metadata": {},
   "source": [
    "The trip duration distribution is pretty much close for all gender types, with differences in median that is larger in females than in males and others."
   ]
  },
  {
   "cell_type": "markdown",
   "metadata": {},
   "source": [
    "#### Q3:  What is the difference in the trip duration distribution between differnet user_types?"
   ]
  },
  {
   "cell_type": "code",
   "execution_count": 69,
   "metadata": {
    "scrolled": true
   },
   "outputs": [
    {
     "data": {
      "text/plain": [
       "Text(0.5, 1.0, 'Trip duration vs user_type')"
      ]
     },
     "execution_count": 69,
     "metadata": {},
     "output_type": "execute_result"
    },
    {
     "data": {
      "image/png": "[encoded data removed]",
      "text/plain": [
       "<Figure size 576x432 with 1 Axes>"
      ]
     },
     "metadata": {
      "needs_background": "light"
     },
     "output_type": "display_data"
    }
   ],
   "source": [
    "base_color = sb.color_palette()[2]\n",
    "sb.violinplot(data=fordgobike_clean, x='user_type', y='duration_min', showfliers=False, whis=[2.5,97.5], color=base_color)\n",
    "plt.title('Trip duration vs user_type')"
   ]
  },
  {
   "cell_type": "markdown",
   "metadata": {},
   "source": [
    "It looks like Subscribers trips are usually shorter than customers trips."
   ]
  },
  {
   "cell_type": "markdown",
   "metadata": {},
   "source": [
    "#### Q4: What is the difference in the trip duration distribution in different months of the year?"
   ]
  },
  {
   "cell_type": "code",
   "execution_count": 70,
   "metadata": {},
   "outputs": [
    {
     "data": {
      "text/plain": [
       "Text(0.5, 1.0, 'Trip duration vs Month of the year')"
      ]
     },
     "execution_count": 70,
     "metadata": {},
     "output_type": "execute_result"
    },
    {
     "data": {
      "image/png": "[encoded data removed]",
      "text/plain": [
       "<Figure size 576x432 with 1 Axes>"
      ]
     },
     "metadata": {
      "needs_background": "light"
     },
     "output_type": "display_data"
    }
   ],
   "source": [
    "base_color = sb.color_palette()[3]\n",
    "sb.barplot(data=fordgobike_clean, x='start_time_month', y='duration_min', color=base_color)\n",
    "plt.xticks(rotation=30)\n",
    "plt.xlabel('Month')\n",
    "plt.ylabel('Avg. Trip Duration in Minute')\n",
    "plt.title('Trip duration vs Month of the year')"
   ]
  },
  {
   "cell_type": "markdown",
   "metadata": {},
   "source": [
    "Distribution of duration against months of the year looks pretty close, duartions don't vary much in each month."
   ]
  },
  {
   "cell_type": "markdown",
   "metadata": {},
   "source": [
    "#### Q5: What is the difference in the trip duration distribution in different day of the week?"
   ]
  },
  {
   "cell_type": "code",
   "execution_count": 71,
   "metadata": {},
   "outputs": [
    {
     "data": {
      "text/plain": [
       "Text(0.5, 1.0, 'Trip duration vs day of the week')"
      ]
     },
     "execution_count": 71,
     "metadata": {},
     "output_type": "execute_result"
    },
    {
     "data": {
      "image/png": "[encoded data removed]",
      "text/plain": [
       "<Figure size 576x432 with 1 Axes>"
      ]
     },
     "metadata": {
      "needs_background": "light"
     },
     "output_type": "display_data"
    }
   ],
   "source": [
    "base_color = sb.color_palette()[1]\n",
    "sb.barplot(data=fordgobike_clean, x='start_time_dayofweek', y='duration_min', color=base_color)\n",
    "plt.xlabel('Day of Week')\n",
    "plt.ylabel('Avg. Trip Duration in Minute')\n",
    "plt.title('Trip duration vs day of the week')"
   ]
  },
  {
   "cell_type": "markdown",
   "metadata": {},
   "source": [
    "Duration of the trips are usually longer in weekends than in weekdays."
   ]
  },
  {
   "cell_type": "markdown",
   "metadata": {},
   "source": [
    "#### Q6: What is the difference in the trip duration distribution in different hours of the day?"
   ]
  },
  {
   "cell_type": "code",
   "execution_count": 72,
   "metadata": {},
   "outputs": [
    {
     "data": {
      "text/plain": [
       "Text(0.5, 1.0, 'Trip duration vs hour of the day')"
      ]
     },
     "execution_count": 72,
     "metadata": {},
     "output_type": "execute_result"
    },
    {
     "data": {
      "image/png": "[encoded data removed]",
      "text/plain": [
       "<Figure size 576x432 with 1 Axes>"
      ]
     },
     "metadata": {
      "needs_background": "light"
     },
     "output_type": "display_data"
    }
   ],
   "source": [
    "base_color = sb.color_palette()[6]\n",
    "sb.barplot(data=fordgobike_clean, x='start_time_hour', y='duration_min', color=base_color)\n",
    "plt.xlabel('Day of Week')\n",
    "plt.ylabel('Avg. Trip Duration in Minutes')\n",
    "plt.title('Trip duration vs hour of the day')"
   ]
  },
  {
   "cell_type": "markdown",
   "metadata": {},
   "source": [
    "Longest avarage duation of trips are at 14pm each day"
   ]
  },
  {
   "cell_type": "markdown",
   "metadata": {},
   "source": [
    "#### Q7: What is the distribution of the member ages vs tuser_types?"
   ]
  },
  {
   "cell_type": "code",
   "execution_count": 73,
   "metadata": {},
   "outputs": [
    {
     "data": {
      "text/plain": [
       "Text(0.5, 1.0, 'User type vs member_age')"
      ]
     },
     "execution_count": 73,
     "metadata": {},
     "output_type": "execute_result"
    },
    {
     "data": {
      "image/png": "[encoded data removed]",
      "text/plain": [
       "<Figure size 576x432 with 1 Axes>"
      ]
     },
     "metadata": {
      "needs_background": "light"
     },
     "output_type": "display_data"
    }
   ],
   "source": [
    "base_color = sb.color_palette()[9]\n",
    "sb.boxplot(data=fordgobike_clean, x='user_type', y='member_age', color=base_color)\n",
    "plt.xlabel('User type')\n",
    "plt.ylabel('Member Age')\n",
    "plt.title('User type vs member_age')"
   ]
  },
  {
   "cell_type": "markdown",
   "metadata": {},
   "source": [
    "Avarage member ages for subscribes is more than customers our bikes"
   ]
  },
  {
   "cell_type": "markdown",
   "metadata": {},
   "source": [
    "### Talk about some of the relationships you observed in this part of the investigation. How did the feature(s) of interest vary with other features in the dataset?\n",
    "\n",
    "Duration-time vs:\n",
    "Age: Trip duation is longer between ages 20-50\n",
    "gender: Females trip durations are usually bit longer than male bikers.\n",
    "user-type: Subscribers trips are usaully shorter than customers.\n",
    "day-ofweek: Trips are longer on weekends than weekdays.\n",
    "\n",
    "\n",
    "### Did you observe any interesting relationships between the other features (not the main feature(s) of interest)?\n",
    "\n",
    "Subscribers are usally older than customers."
   ]
  },
  {
   "cell_type": "markdown",
   "metadata": {},
   "source": [
    "<a id='mul'></a>\n",
    "<hr>\n",
    "\n",
    "## Multivariate Exploration"
   ]
  },
  {
   "cell_type": "markdown",
   "metadata": {},
   "source": [
    "#### Q1: What are the average trip duration in differnt months of the year for different types of users?"
   ]
  },
  {
   "cell_type": "code",
   "execution_count": 74,
   "metadata": {},
   "outputs": [
    {
     "data": {
      "text/plain": [
       "Text(0.5, 1.0, 'Months vs duration of trips for different user_types')"
      ]
     },
     "execution_count": 74,
     "metadata": {},
     "output_type": "execute_result"
    },
    {
     "data": {
      "image/png": "[encoded data removed]",
      "text/plain": [
       "<Figure size 576x432 with 1 Axes>"
      ]
     },
     "metadata": {
      "needs_background": "light"
     },
     "output_type": "display_data"
    }
   ],
   "source": [
    "sb.pointplot(data=fordgobike_clean, x='start_time_month', y='duration_min', hue='user_type', dodge=0.3, linestyles=\"\")\n",
    "plt.xlabel('Day of Week')\n",
    "plt.ylabel('Avg. Trip Duration in Minute')\n",
    "plt.title('Months vs duration of trips for different user_types')"
   ]
  },
  {
   "cell_type": "markdown",
   "metadata": {},
   "source": [
    "#### Q2: What are the average trip duration in differnt days of the week for different user_types?"
   ]
  },
  {
   "cell_type": "code",
   "execution_count": 75,
   "metadata": {},
   "outputs": [
    {
     "data": {
      "text/plain": [
       "Text(0.5, 1.0, 'day of the week vs duration of trips for different user_types')"
      ]
     },
     "execution_count": 75,
     "metadata": {},
     "output_type": "execute_result"
    },
    {
     "data": {
      "image/png": "[encoded data removed]",
      "text/plain": [
       "<Figure size 576x432 with 1 Axes>"
      ]
     },
     "metadata": {
      "needs_background": "light"
     },
     "output_type": "display_data"
    }
   ],
   "source": [
    "sb.pointplot(data=fordgobike_clean, x='start_time_dayofweek', y='duration_min', hue='user_type', dodge=0.3, linestyles=\"\")\n",
    "plt.xlabel('Day of Week')\n",
    "plt.ylabel('Avg. Trip Duration in Minute')\n",
    "plt.title('day of the week vs duration of trips for different user_types')"
   ]
  },
  {
   "cell_type": "markdown",
   "metadata": {},
   "source": [
    "Members have longer biking trips in weekdays than other days."
   ]
  },
  {
   "cell_type": "markdown",
   "metadata": {},
   "source": [
    "#### Q3: What are the average trip duration in differnt hours of the day for different user_types?"
   ]
  },
  {
   "cell_type": "code",
   "execution_count": 76,
   "metadata": {},
   "outputs": [
    {
     "data": {
      "text/plain": [
       "Text(0.5, 1.0, 'hour of the day vs duration of trips for different user_types')"
      ]
     },
     "execution_count": 76,
     "metadata": {},
     "output_type": "execute_result"
    },
    {
     "data": {
      "image/png": "[encoded data removed]",
      "text/plain": [
       "<Figure size 576x432 with 1 Axes>"
      ]
     },
     "metadata": {
      "needs_background": "light"
     },
     "output_type": "display_data"
    }
   ],
   "source": [
    "sb.pointplot(data=fordgobike_clean, x='start_time_hour', y='duration_min', hue='user_type', dodge=0.3, linestyles=\"\")\n",
    "plt.xlabel('Day of Week')\n",
    "plt.ylabel('Avg. Trip Duration in Minute')\n",
    "plt.title('hour of the day vs duration of trips for different user_types')"
   ]
  },
  {
   "cell_type": "markdown",
   "metadata": {},
   "source": [
    "Subscribers bike longer in in avarage, with peak at 14pm"
   ]
  },
  {
   "cell_type": "markdown",
   "metadata": {},
   "source": [
    "#### Q4: What are the average trip duration in differnt months of the year for different genders?"
   ]
  },
  {
   "cell_type": "code",
   "execution_count": 77,
   "metadata": {},
   "outputs": [
    {
     "data": {
      "text/plain": [
       "Text(0.5, 1.0, 'Months vs duration of trips for different genders')"
      ]
     },
     "execution_count": 77,
     "metadata": {},
     "output_type": "execute_result"
    },
    {
     "data": {
      "image/png": "[encoded data removed]",
      "text/plain": [
       "<Figure size 576x432 with 1 Axes>"
      ]
     },
     "metadata": {
      "needs_background": "light"
     },
     "output_type": "display_data"
    }
   ],
   "source": [
    "sb.pointplot(data=fordgobike_clean, x='start_time_month', y='duration_min', hue='member_gender', dodge=0.3, linestyles=\"\")\n",
    "plt.xlabel('Day of Week')\n",
    "plt.ylabel('Avg. Trip Duration in Minute')\n",
    "plt.title('Months vs duration of trips for different genders')"
   ]
  },
  {
   "cell_type": "markdown",
   "metadata": {},
   "source": [
    "Members bike longer in summer and female bikers usually bike longer than others in differnt months."
   ]
  },
  {
   "cell_type": "markdown",
   "metadata": {},
   "source": [
    "#### Q5: What are the average trip duration in differnt day of the week for different genders?"
   ]
  },
  {
   "cell_type": "code",
   "execution_count": 78,
   "metadata": {},
   "outputs": [
    {
     "data": {
      "text/plain": [
       "Text(0.5, 1.0, 'day of the week vs duration of trips for different genders')"
      ]
     },
     "execution_count": 78,
     "metadata": {},
     "output_type": "execute_result"
    },
    {
     "data": {
      "image/png": "[encoded data removed]",
      "text/plain": [
       "<Figure size 576x432 with 1 Axes>"
      ]
     },
     "metadata": {
      "needs_background": "light"
     },
     "output_type": "display_data"
    }
   ],
   "source": [
    "sb.pointplot(data=fordgobike_clean, x='start_time_dayofweek', y='duration_min', hue='member_gender', dodge=0.3, linestyles=\"\")\n",
    "plt.xlabel('Day of Week')\n",
    "plt.ylabel('Avg. Trip Duration in Minute')\n",
    "plt.title('day of the week vs duration of trips for different genders')"
   ]
  },
  {
   "cell_type": "markdown",
   "metadata": {},
   "source": [
    "#### Q6: What are the average trip duration in differnt hours of the day for different genders?"
   ]
  },
  {
   "cell_type": "code",
   "execution_count": 79,
   "metadata": {
    "scrolled": true
   },
   "outputs": [
    {
     "data": {
      "text/plain": [
       "Text(0.5, 1.0, 'hour of the day vs duration of trips for different genders')"
      ]
     },
     "execution_count": 79,
     "metadata": {},
     "output_type": "execute_result"
    },
    {
     "data": {
      "image/png": "[encoded data removed]",
      "text/plain": [
       "<Figure size 576x432 with 1 Axes>"
      ]
     },
     "metadata": {
      "needs_background": "light"
     },
     "output_type": "display_data"
    }
   ],
   "source": [
    "sb.pointplot(data=fordgobike_clean, x='start_time_hour', y='duration_min', hue='member_gender', dodge=0.3, linestyles=\"\")\n",
    "plt.xlabel('Day of Week')\n",
    "plt.ylabel('Avg. Trip Duration in Minute')\n",
    "plt.title('hour of the day vs duration of trips for different genders')"
   ]
  },
  {
   "cell_type": "markdown",
   "metadata": {},
   "source": [
    "### Talk about some of the relationships you observed in this part of the investigation. Were there features that strengthened each other in terms of looking at your feature(s) of interest?\n",
    "\n",
    "The multivariate exploration strengthened the feature of interest looked at previoslt in bivariate graphs.<br>\n",
    "Although the count male users is higher but percentage is higher for women and other in trip duration.\n",
    "\n",
    "### Were there any interesting or surprising interactions between features?\n",
    "\n",
    "Trips on weekends are longer than weekdays.<br>\n",
    "Female bikers bike longer than male bikers.<br>\n",
    "Customers bike longer than Subscribers."
   ]
  }
 ],
 "metadata": {
  "kernelspec": {
   "display_name": "Python 3",
   "language": "python",
   "name": "python3"
  },
  "language_info": {
   "codemirror_mode": {
    "name": "ipython",
    "version": 3
   },
   "file_extension": ".py",
   "mimetype": "text/x-python",
   "name": "python",
   "nbconvert_exporter": "python",
   "pygments_lexer": "ipython3",
   "version": "3.7.3"
  }
 },
 "nbformat": 4,
 "nbformat_minor": 2
}
